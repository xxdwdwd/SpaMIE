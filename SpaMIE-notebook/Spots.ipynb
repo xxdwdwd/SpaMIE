{
 "cells": [
  {
   "cell_type": "markdown",
   "id": "c0a0cb92",
   "metadata": {},
   "source": [
    "## Mouse Spleen"
   ]
  },
  {
   "cell_type": "code",
   "execution_count": null,
   "id": "d2ec50ca",
   "metadata": {},
   "outputs": [],
   "source": [
    "import os\n",
    "import dgl\n",
    "import pandas as pd\n",
    "os.getcwd()\n",
    "os.chdir('/data/xiangdw/MODEL/')\n",
    "print(os.getcwd())\n",
    "import sys\n",
    "import scanpy as sc\n",
    "import importlib \n",
    "import torch as th\n",
    "import torch.nn as nn\n",
    "from sklearn.utils import shuffle\n",
    "from model_integration import *\n",
    "\n",
    "# 设置西文字体为新罗马字体\n",
    "from matplotlib import rcParams\n",
    "\n",
    "config = {\n",
    "    \"font.family\":'Times New Roman', \n",
    "     \"font.size\":20, # 设置字体类型\n",
    "    \"axes.unicode_minus\": False #解决负号无法显示的问题\n",
    "}\n",
    "rcParams.update(config)"
   ]
  },
  {
   "cell_type": "markdown",
   "id": "7f965b42",
   "metadata": {},
   "source": [
    "### Integration"
   ]
  },
  {
   "cell_type": "code",
   "execution_count": null,
   "id": "10538afd",
   "metadata": {},
   "outputs": [],
   "source": [
    "import torch.nn.functional as F\n",
    "from SpaMIE.create_graph import Sagegraph\n",
    "from SpaMIE.spamie_main import Sagewrapper\n",
    "import numpy as np\n",
    "from model_integration import set_seed\n",
    "device = th.device('cuda:1' if th.cuda.is_available() else 'cpu')\n",
    "\n",
    "\n",
    "for i in range(1): \n",
    "    seeds = str(i+1)\n",
    "    path = '/data/xiangdw/data/data/'\n",
    "    adata_omics1 = sc.read_h5ad(path + str(seeds) + 'adata_RNA_spots.h5ad')\n",
    "    adata_omics2 = sc.read_h5ad(path + str(seeds) + 'adata_RNA_spots.h5ad')\n",
    "    set_seed(2024) \n",
    "    sc.pp.scale(adata_omics1)\n",
    "    sc.pp.scale(adata_omics2)\n",
    "    modalities = [adata_omics1, adata_omics2]\n",
    "    g_spatial_omics1, g_feature_omics1, g_spatial_omics2, g_feature_omics2, adata_omics1, adata_omics2 = Sagegraph(modalities, device, datatype=\"spots\",batch=True)\n",
    "\n",
    "    in_feat = adata_omics1.obsm['feat'].shape[1]\n",
    "    out_feat = adata_omics2.X.shape[1]\n",
    "    weight = [1,1,1]\n",
    "    model = Sagewrapper(seed=(int(seeds)), device=device, in_feat=in_feat, n_hidden=256, out_feat=out_feat, task='integration', datatype='spots',\n",
    "                        layers_nums=int(3), weight=weight, epoch=600, res_type='res_add', activation=nn.LeakyReLU\n",
    "                        , sagetype='mean', lr=2e-4, lr2 = 0.002)\n",
    "\n",
    "    output  = model.fit(g_spatial_omics1, g_feature_omics1, g_spatial_omics2, g_feature_omics2, adata_omics1, adata_omics2, weight_factors=[1,5,1,1])\n",
    "\n",
    "    adata_omics2.obsm['SpaMIE'] = output[0]\n",
    "    "
   ]
  }
 ],
 "metadata": {
  "language_info": {
   "name": "python"
  }
 },
 "nbformat": 4,
 "nbformat_minor": 5
}

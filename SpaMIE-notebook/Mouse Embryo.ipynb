{
 "cells": [
  {
   "cell_type": "markdown",
   "id": "2b373fb0",
   "metadata": {},
   "source": [
    "## Mouse Embryo"
   ]
  },
  {
   "cell_type": "code",
   "execution_count": null,
   "id": "ff2021fb",
   "metadata": {},
   "outputs": [],
   "source": [
    "import scanpy as sc\n",
    "import torch as th\n",
    "import scanpy as sc\n",
    "import pandas as pd\n",
    "import torch.nn as nn\n",
    "import sys\n",
    "sys.path.append(r\"/data/xiangdw/MODEL/\")\n",
    "from SpaMIE.create_graph import Sagegraph\n",
    "from SpaMIE.spamie_main import Sagewrapper\n",
    "device = th.device('cuda:0' if th.cuda.is_available() else 'cpu')\n",
    "file_fold = '/data/xiangdw/data/data/' \n",
    "from matplotlib import rcParams\n",
    "\n",
    "config = {\n",
    "    \"font.family\":'Times New Roman',  # 设置字体类型\n",
    "    \"font.size\":12,\n",
    "    \"axes.unicode_minus\": False #解决负号无法显示的问题\n",
    "}\n",
    "rcParams.update(config)"
   ]
  },
  {
   "cell_type": "markdown",
   "id": "9fcf3081",
   "metadata": {},
   "source": [
    "### Prediction"
   ]
  },
  {
   "cell_type": "markdown",
   "id": "f3dc6fe9",
   "metadata": {},
   "source": [
    "#### ATAC to RNA "
   ]
  },
  {
   "cell_type": "code",
   "execution_count": null,
   "id": "28afee38",
   "metadata": {},
   "outputs": [],
   "source": [
    "import datetime\n",
    "file_fold = '/data/xiangdw/data/data/'\n",
    "a = []\n",
    "layers_nums = 3\n",
    "for i in range(1):\n",
    "    starttime = datetime.datetime.now()\n",
    "    seeds = i+1\n",
    "    adata_omics1 = sc.read_h5ad(file_fold + str(seeds) + 'MouseEmbryo25um_ATAC.h5ad')\n",
    "    adata_omics2 = sc.read_h5ad(file_fold + str(seeds) + 'MouseEmbryo25um_RNA.h5ad')\n",
    "\n",
    "    modalities = [adata_omics1, adata_omics2]\n",
    "    g_spatial_omics1, g_feature_omics1, g_spatial_omics2, g_feature_omics2, adata_omics1, adata_omics2 = Sagegraph(modalities, device, datatype='Spatial-epigenome-transcriptome-ATAC-RNA', batch=False)\n",
    "    output_dir = '/data/xiangdw/data/pred result/'\n",
    "    weight = [0,0,1]\n",
    "\n",
    "    pred_name = 'mouseEmbryo_SpaMIE_RNA_'+str(layers_nums)+'_pred.csv'\n",
    "    true_name = 'mouseEmbryo_SpaMIE_RNA_'+str(layers_nums)+'_truth.csv'\n",
    "\n",
    "    in_feat = adata_omics1.obsm['feat'].shape[1]\n",
    "    out_feat = adata_omics2.X.shape[1]\n",
    "\n",
    "    model = Sagewrapper(seed=(int(seeds)), device=device, in_feat=in_feat, n_hidden=512, out_feat=out_feat, task='prediction', datatype='simu',\n",
    "                        layers_nums=int(layers_nums), weight=weight, epoch=700, res_type='res_add', activation=nn.LeakyReLU\n",
    "                        , sagetype='mean', lr=2e-3, lr2 = 0.001)\n",
    "\n",
    "    adata_omics1_pred, adata_omics2_pred, test_idx, train_idx,wt,alph  = model.fit(g_spatial_omics1, g_feature_omics1,  g_spatial_omics2, g_feature_omics2,\n",
    "                                                                                    adata_omics1, adata_omics2, output_dir=output_dir, pred_name=pred_name, \n",
    "                                                                                    true_name=true_name, weight=True, save_csv=False)\n",
    "\n"
   ]
  },
  {
   "cell_type": "markdown",
   "id": "4d152b8f",
   "metadata": {},
   "source": [
    "#### RNA to ATAC "
   ]
  },
  {
   "cell_type": "code",
   "execution_count": null,
   "id": "bb6b9e08",
   "metadata": {},
   "outputs": [],
   "source": [
    "import datetime\n",
    "file_fold = '/data/xiangdw/data/data/'\n",
    "a = []\n",
    "layers_nums = 3\n",
    "for i in range(1):\n",
    "    starttime = datetime.datetime.now()\n",
    "    seeds = i+1\n",
    "    adata_omics1 = sc.read_h5ad(file_fold + 'MouseEmbryo25um_RNA.h5ad')\n",
    "    adata_omics2 = sc.read_h5ad(file_fold + 'MouseEmbryo25um_ATAC.h5ad')\n",
    "\n",
    "    modalities = [adata_omics1, adata_omics2]\n",
    "    g_spatial_omics1, g_feature_omics1, g_spatial_omics2, g_feature_omics2, adata_omics1, adata_omics2 = Sagegraph(modalities, device, datatype='Spatial-epigenome-transcriptome-RNA-ATAC', batch=False)\n",
    "    output_dir = '/data/xiangdw/data/pred result/'\n",
    "    weight = [0,0,0]\n",
    "\n",
    "    pred_name = 'mouseEmbryo_SpaMIE_ATAC_'+str(layers_nums)+'_pred.csv'\n",
    "    true_name = 'mouseEmbryo_SpaMIE_ATAC_'+str(layers_nums)+'_truth.csv'\n",
    "\n",
    "    in_feat = adata_omics1.obsm['feat'].shape[1]\n",
    "    out_feat = adata_omics2.X.shape[1]\n",
    "\n",
    "    model = Sagewrapper(seed=(int(seeds)), device=device, in_feat=in_feat, n_hidden=512, out_feat=out_feat, task='prediction', datatype='simu',\n",
    "                        layers_nums=int(layers_nums), weight=weight, epoch=700, res_type='res_add', activation=nn.LeakyReLU\n",
    "                        , sagetype='gcn', lr=1e-4, lr2 = 0.001)\n",
    "\n",
    "    adata_omics1_pred, adata_omics2_pred, test_idx, train_idx,wt,alph  = model.fit(g_spatial_omics1, g_feature_omics1,  g_spatial_omics2, g_feature_omics2,\n",
    "                                                                                    adata_omics1, adata_omics2, output_dir=output_dir, pred_name=pred_name, \n",
    "                                                                                    true_name=true_name, weight=True, save_csv=False)\n",
    "\n"
   ]
  },
  {
   "cell_type": "markdown",
   "id": "affcdd78",
   "metadata": {},
   "source": [
    "### Integration"
   ]
  },
  {
   "cell_type": "code",
   "execution_count": null,
   "id": "547729d7",
   "metadata": {},
   "outputs": [],
   "source": [
    "import os\n",
    "import dgl\n",
    "import pandas as pd\n",
    "os.getcwd()\n",
    "os.chdir('/data/xiangdw/MODEL/')\n",
    "print(os.getcwd())\n",
    "import sys\n",
    "import scanpy as sc\n",
    "import importlib \n",
    "import torch as th\n",
    "import torch.nn as nn\n",
    "from sklearn.utils import shuffle\n",
    "from model_integration import *\n",
    "\n",
    "# 设置西文字体为新罗马字体\n",
    "from matplotlib import rcParams\n",
    "\n",
    "config = {\n",
    "    \"font.family\":'Times New Roman', \n",
    "     \"font.size\":20, # 设置字体类型\n",
    "    \"axes.unicode_minus\": False #解决负号无法显示的问题\n",
    "}\n",
    "rcParams.update(config)"
   ]
  },
  {
   "cell_type": "code",
   "execution_count": null,
   "id": "c56182eb",
   "metadata": {},
   "outputs": [],
   "source": [
    "import torch.nn.functional as F\n",
    "from SpaMIE.create_graph import Sagegraph\n",
    "from SpaMIE.spamie_main import Sagewrapper\n",
    "import numpy as np\n",
    "from model_integration import set_seed\n",
    "device = th.device('cuda:1' if th.cuda.is_available() else 'cpu')\n",
    "\n",
    "\n",
    "for i in range(1): \n",
    "    seeds = str(i+1)\n",
    "    path = '/data/xiangdw/data/data/'\n",
    "    adata_omics1 = sc.read_h5ad(path + str(seeds) + 'MouseEmbryo25um_ATAC.h5ad')\n",
    "    adata_omics2 = sc.read_h5ad(path + str(seeds) + 'MouseEmbryo25um_RNA.h5ad')\n",
    "    set_seed(2024) #2 2025 8881\n",
    "    sc.pp.scale(adata_omics1)\n",
    "    sc.pp.scale(adata_omics2)\n",
    "    modalities = [adata_omics1, adata_omics2]\n",
    "    g_spatial_omics1, g_feature_omics1, g_spatial_omics2, g_feature_omics2, adata_omics1, adata_omics2 = Sagegraph(modalities, device, datatype=\"simu\",batch=False)\n",
    "\n",
    "    in_feat = adata_omics1.obsm['feat'].shape[1]\n",
    "    out_feat = adata_omics2.X.shape[1]\n",
    "    weight = [1,1,1]\n",
    "    model = Sagewrapper(seed=(int(seeds)), device=device, in_feat=in_feat, n_hidden=256, out_feat=out_feat, task='integration', datatype='simu',\n",
    "                        layers_nums=int(3), weight=weight, epoch=600, res_type='res_add', activation=nn.LeakyReLU\n",
    "                        , sagetype='mean', lr=2e-4, lr2 = 0.002)\n",
    "\n",
    "    output  = model.fit(g_spatial_omics1, g_feature_omics1, g_spatial_omics2, g_feature_omics2, adata_omics1, adata_omics2, weight_factors=[3,1,1,1])\n",
    "\n",
    "    adata_omics2.obsm['SpaMIE'] = output[0]\n",
    "    "
   ]
  }
 ],
 "metadata": {
  "kernelspec": {
   "display_name": "dl",
   "language": "python",
   "name": "python3"
  },
  "language_info": {
   "name": "python",
   "version": "3.8.18"
  }
 },
 "nbformat": 4,
 "nbformat_minor": 5
}

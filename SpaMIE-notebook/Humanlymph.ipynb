{
 "cells": [
  {
   "cell_type": "markdown",
   "id": "48fe0ccb",
   "metadata": {},
   "source": [
    "## Human lymph"
   ]
  },
  {
   "cell_type": "markdown",
   "id": "333e6c84",
   "metadata": {},
   "source": [
    "### Prediction"
   ]
  },
  {
   "cell_type": "code",
   "execution_count": null,
   "id": "b885fbd7",
   "metadata": {},
   "outputs": [],
   "source": [
    "import scanpy as sc\n",
    "import torch as th\n",
    "import scanpy as sc\n",
    "import pandas as pd\n",
    "import torch.nn as nn\n",
    "import sys\n",
    "sys.path.append(r\"/data/xiangdw/MODEL/\")\n",
    "from SpaMIE.create_graph import Sagegraph\n",
    "from SpaMIE.spamie_main import Sagewrapper\n",
    "device = th.device('cuda:0' if th.cuda.is_available() else 'cpu')\n",
    "file_fold = '/data/xiangdw/data/data/' \n",
    "from matplotlib import rcParams\n",
    "\n",
    "config = {\n",
    "    \"font.family\":'Times New Roman',  # 设置字体类型\n",
    "    \"font.size\":12,\n",
    "    \"axes.unicode_minus\": False #解决负号无法显示的问题\n",
    "}\n",
    "rcParams.update(config)"
   ]
  },
  {
   "cell_type": "code",
   "execution_count": null,
   "id": "5a8ad482",
   "metadata": {},
   "outputs": [],
   "source": [
    "import datetime\n",
    "file_fold = '/data/xiangdw/data/data/humanlymph/'\n",
    "a = []\n",
    "layers_nums = 3\n",
    "for i in range(1):\n",
    "    starttime = datetime.datetime.now()\n",
    "    seeds = i+1\n",
    "    adata_omics1 = sc.read_h5ad(file_fold + 'adata_RNA.h5ad')\n",
    "    adata_omics2 = sc.read_h5ad(file_fold + 'adata_ADT.h5ad')\n",
    "\n",
    "    modalities = [adata_omics1, adata_omics2]\n",
    "    g_spatial_omics1, g_feature_omics1, g_spatial_omics2, g_feature_omics2, adata_omics1, adata_omics2 = Sagegraph(modalities, device, datatype='Stereo-CITE-seq', batch=False)\n",
    "    output_dir = '/data/xiangdw/data/pred result/'\n",
    "    weight = [0,0,1]\n",
    "\n",
    "    pred_name = 'humanlymph_SpaMIE_'+str(layers_nums)+'_pred.csv'\n",
    "    true_name = 'humanlymph_SpaMIE_'+str(layers_nums)+'_truth.csv'\n",
    "\n",
    "    in_feat = adata_omics1.obsm['feat'].shape[1]\n",
    "    out_feat = adata_omics2.X.shape[1]\n",
    "\n",
    "    model = Sagewrapper(seed=(int(seeds)), device=device, in_feat=in_feat, n_hidden=256, out_feat=out_feat, task='prediction', datatype='Stereo-CITE-seq',\n",
    "                        layers_nums=int(layers_nums), weight=weight, epoch=600, res_type='res_add', activation=nn.LeakyReLU\n",
    "                        , sagetype='mean', lr=2e-4, lr2 = 0.001)\n",
    "\n",
    "    adata_omics1_pred, adata_omics2_pred, test_idx, train_idx,wt,alph  = model.fit(g_spatial_omics1, g_feature_omics1,  g_spatial_omics2, g_feature_omics2,\n",
    "                                                                                    adata_omics1, adata_omics2, output_dir=output_dir, pred_name=pred_name, \n",
    "                                                                                    true_name=true_name, weight=True, save_csv=False)\n",
    "\n"
   ]
  },
  {
   "cell_type": "markdown",
   "id": "9ffad74d",
   "metadata": {},
   "source": [
    "### Integration"
   ]
  },
  {
   "cell_type": "code",
   "execution_count": null,
   "id": "208892cb",
   "metadata": {},
   "outputs": [],
   "source": [
    "import os\n",
    "import dgl\n",
    "import pandas as pd\n",
    "os.getcwd()\n",
    "os.chdir('/data/xiangdw/MODEL/')\n",
    "print(os.getcwd())\n",
    "import sys\n",
    "import scanpy as sc\n",
    "import importlib \n",
    "import torch as th\n",
    "import torch.nn as nn\n",
    "from sklearn.utils import shuffle\n",
    "from model_integration import *\n",
    "\n",
    "# 设置西文字体为新罗马字体\n",
    "from matplotlib import rcParams\n",
    "\n",
    "config = {\n",
    "    \"font.family\":'Times New Roman', \n",
    "     \"font.size\":20, # 设置字体类型\n",
    "    \"axes.unicode_minus\": False #解决负号无法显示的问题\n",
    "}\n",
    "rcParams.update(config)"
   ]
  },
  {
   "cell_type": "code",
   "execution_count": null,
   "id": "2d2e1e22",
   "metadata": {},
   "outputs": [],
   "source": [
    "import torch.nn.functional as F\n",
    "from SpaMIE.create_graph import Sagegraph\n",
    "from SpaMIE.spamie_main import Sagewrapper\n",
    "import numpy as np\n",
    "from model_integration import set_seed\n",
    "device = th.device('cuda:1' if th.cuda.is_available() else 'cpu')\n",
    "\n",
    "\n",
    "for i in range(1): \n",
    "    seeds = str(i+1)\n",
    "    path = '/data/xiangdw/data/data/humanlymph/'\n",
    "    adata_omics1 = sc.read_h5ad(path + 'adata_RNA.h5ad')\n",
    "    adata_omics2 = sc.read_h5ad(path + 'adata_ADT.h5ad')\n",
    "\n",
    "    test_idx = '/data/xiangdw/data/pred result/sage pred result/'+seeds+'_humanlymph_test_idx.csv'\n",
    "    y_pred_name = '/data/xiangdw/data/pred result/SpaMIE pred result/'+seeds+'humanlymph_SpaMIE_new_res3_wt_pred.csv'\n",
    "\n",
    "    set_seed(2024) \n",
    "    sc.pp.scale(adata_omics1)\n",
    "    sc.pp.scale(adata_omics2)\n",
    "    modalities = [adata_omics1, adata_omics2]\n",
    "    g_spatial_omics1, g_feature_omics1, g_spatial_omics2, g_feature_omics2, adata_omics1, adata_omics2 = Sagegraph(modalities, device, task=\"Integration\", test_idx_name=test_idx,\n",
    "                                                                                                                   y_pred_name=y_pred_name, pred_joint=True, datatype=\"Stereo-CITE-seq\",batch=False)\n",
    "\n",
    "    in_feat = adata_omics1.obsm['feat'].shape[1]\n",
    "    out_feat = adata_omics2.X.shape[1]\n",
    "    weight = [1,1,1]\n",
    "    model = Sagewrapper(seed=(int(seeds)), device=device, in_feat=in_feat, n_hidden=256, out_feat=out_feat, task='integration', datatype='Stereo-CITE-seq',\n",
    "                        layers_nums=int(3), weight=weight, epoch=600, res_type='res_add', activation=nn.LeakyReLU\n",
    "                        , sagetype='mean', lr=2e-4, lr2 = 0.002)\n",
    "\n",
    "    output  = model.fit(g_spatial_omics1, g_feature_omics1, g_spatial_omics2, g_feature_omics2, adata_omics1, adata_omics2, weight_factors=[1,2,1,1])\n",
    "\n",
    "    adata_omics2.obsm['SpaMIE'] = output[0]\n",
    "    "
   ]
  }
 ],
 "metadata": {
  "kernelspec": {
   "display_name": "dl",
   "language": "python",
   "name": "python3"
  },
  "language_info": {
   "name": "python",
   "version": "3.8.18"
  }
 },
 "nbformat": 4,
 "nbformat_minor": 5
}

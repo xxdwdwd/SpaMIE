{
 "cells": [
  {
   "cell_type": "markdown",
   "id": "597ba817",
   "metadata": {},
   "source": [
    "### Pred"
   ]
  },
  {
   "cell_type": "code",
   "execution_count": 2,
   "id": "11a04496",
   "metadata": {},
   "outputs": [
    {
     "name": "stderr",
     "output_type": "stream",
     "text": [
      "/data/xiangdw/conda_env/GNNS/lib/python3.8/site-packages/torchdata/datapipes/__init__.py:18: UserWarning: \n",
      "################################################################################\n",
      "WARNING!\n",
      "The 'datapipes', 'dataloader2' modules are deprecated and will be removed in a\n",
      "future torchdata release! Please see https://github.com/pytorch/data/issues/1196\n",
      "to learn more and leave feedback.\n",
      "################################################################################\n",
      "\n",
      "  deprecation_warning()\n",
      "/data/xiangdw/conda_env/GNNS/lib/python3.8/site-packages/tqdm/auto.py:21: TqdmWarning: IProgress not found. Please update jupyter and ipywidgets. See https://ipywidgets.readthedocs.io/en/stable/user_install.html\n",
      "  from .autonotebook import tqdm as notebook_tqdm\n"
     ]
    }
   ],
   "source": [
    "import scanpy as sc\n",
    "import torch as th\n",
    "import scanpy as sc\n",
    "import pandas as pd\n",
    "import torch.nn as nn\n",
    "import sys\n",
    "sys.path.append(r\"/data/xiangdw/MODEL/\")\n",
    "from SpaMIE.create_graph import Sagegraph\n",
    "from SpaMIE.spamie_main import Sagewrapper\n",
    "device = th.device('cuda:0' if th.cuda.is_available() else 'cpu')\n",
    "file_fold = '/data/xiangdw/data/data/' \n",
    "from matplotlib import rcParams\n",
    "\n",
    "config = {\n",
    "    \"font.family\":'Times New Roman',  # 设置字体类型\n",
    "    \"font.size\":12,\n",
    "    \"axes.unicode_minus\": False #解决负号无法显示的问题\n",
    "}\n",
    "rcParams.update(config)"
   ]
  },
  {
   "cell_type": "code",
   "execution_count": 5,
   "id": "3229c635",
   "metadata": {},
   "outputs": [
    {
     "name": "stderr",
     "output_type": "stream",
     "text": [
      "/data/xiangdw/MODEL/SpaMIE/spamie_net.py:98: UserWarning: Implicit dimension choice for softmax has been deprecated. Change the call to include dim=X as an argument.\n",
      "  self.alpha = F.softmax(torch.squeeze(self.vu) + 1e-6)\n"
     ]
    },
    {
     "name": "stdout",
     "output_type": "stream",
     "text": [
      "Early stopped.\n"
     ]
    }
   ],
   "source": [
    "import datetime\n",
    "file_fold = '/data/xiangdw/data/data/'\n",
    "a = []\n",
    "layers_nums = 3\n",
    "for i in range(1):\n",
    "    starttime = datetime.datetime.now()\n",
    "    seeds = i+1\n",
    "    adata_omics1 = sc.read_h5ad(file_fold + str(seeds) + '_simu_pred_mod2.h5ad')\n",
    "    adata_omics2 = sc.read_h5ad(file_fold + str(seeds) + '_simu_pred_mod1.h5ad')\n",
    "\n",
    "    modalities = [adata_omics1, adata_omics2]\n",
    "    g_spatial_omics1, g_feature_omics1, g_spatial_omics2, g_feature_omics2, adata_omics1, adata_omics2 = Sagegraph(modalities, device, datatype='simu', batch=False)\n",
    "    output_dir = '/data/xiangdw/data/pred result/'\n",
    "    weight = [0,0,1]\n",
    "\n",
    "    pred_name = 'simu_SpaMIE_'+str(layers_nums)+'_pred.csv'\n",
    "    true_name = 'simu_SpaMIE_'+str(layers_nums)+'_truth.csv'\n",
    "\n",
    "    in_feat = adata_omics1.obsm['feat'].shape[1]\n",
    "    out_feat = adata_omics2.X.shape[1]\n",
    "\n",
    "    model = Sagewrapper(seed=(int(seeds)), device=device, in_feat=in_feat, n_hidden=256, out_feat=out_feat, task='prediction', datatype='simu',\n",
    "                        layers_nums=int(layers_nums), weight=weight, epoch=600, res_type='res_add', activation=nn.LeakyReLU\n",
    "                        , sagetype='mean', lr=2e-4, lr2 = 0.002)\n",
    "\n",
    "    adata_omics1_pred, adata_omics2_pred, test_idx, train_idx,wt,alph  = model.fit(g_spatial_omics1, g_feature_omics1,  g_spatial_omics2, g_feature_omics2,\n",
    "                                                                                    adata_omics1, adata_omics2, output_dir=output_dir, pred_name=pred_name, \n",
    "                                                                                    true_name=true_name, weight=True, save_csv=False)\n",
    "\n"
   ]
  },
  {
   "cell_type": "markdown",
   "id": "bf556ca8",
   "metadata": {},
   "source": [
    "### joint"
   ]
  },
  {
   "cell_type": "code",
   "execution_count": 1,
   "id": "9f2691b6",
   "metadata": {},
   "outputs": [
    {
     "name": "stderr",
     "output_type": "stream",
     "text": [
      "/data/xiangdw/conda_env/GNNS/lib/python3.8/site-packages/torchdata/datapipes/__init__.py:18: UserWarning: \n",
      "################################################################################\n",
      "WARNING!\n",
      "The 'datapipes', 'dataloader2' modules are deprecated and will be removed in a\n",
      "future torchdata release! Please see https://github.com/pytorch/data/issues/1196\n",
      "to learn more and leave feedback.\n",
      "################################################################################\n",
      "\n",
      "  deprecation_warning()\n",
      "/data/xiangdw/conda_env/GNNS/lib/python3.8/site-packages/tqdm/auto.py:21: TqdmWarning: IProgress not found. Please update jupyter and ipywidgets. See https://ipywidgets.readthedocs.io/en/stable/user_install.html\n",
      "  from .autonotebook import tqdm as notebook_tqdm\n"
     ]
    },
    {
     "name": "stdout",
     "output_type": "stream",
     "text": [
      "/data/xiangdw/MODEL\n"
     ]
    }
   ],
   "source": [
    "import os\n",
    "import dgl\n",
    "import pandas as pd\n",
    "os.getcwd()\n",
    "os.chdir('/data/xiangdw/MODEL/')\n",
    "print(os.getcwd())\n",
    "import sys\n",
    "import scanpy as sc\n",
    "import importlib \n",
    "import torch as th\n",
    "import torch.nn as nn\n",
    "from sklearn.utils import shuffle\n",
    "from model_integration import *\n",
    "\n",
    "# 设置西文字体为新罗马字体\n",
    "from matplotlib import rcParams\n",
    "\n",
    "config = {\n",
    "    \"font.family\":'Times New Roman', \n",
    "     \"font.size\":20, # 设置字体类型\n",
    "    \"axes.unicode_minus\": False #解决负号无法显示的问题\n",
    "}\n",
    "rcParams.update(config)"
   ]
  },
  {
   "cell_type": "code",
   "execution_count": null,
   "id": "325882f9",
   "metadata": {},
   "outputs": [],
   "source": [
    "import torch.nn.functional as F\n",
    "from SpaMIE.create_graph import Sagegraph\n",
    "from SpaMIE.spamie_main import Sagewrapper\n",
    "import numpy as np\n",
    "from model_integration import set_seed\n",
    "device = th.device('cuda:1' if th.cuda.is_available() else 'cpu')\n",
    "\n",
    "\n",
    "for i in range(1): \n",
    "    seeds = str(i+1)\n",
    "    path = '/data/xiangdw/data/data/'\n",
    "    adata_omics1 = sc.read_h5ad(path + str(seeds) + '_simu_pred_mod2.h5ad')\n",
    "    adata_omics2 = sc.read_h5ad(path + str(seeds) + '_simu_pred_mod1.h5ad')\n",
    "\n",
    "    test_idx = '/data/xiangdw/data/pred result/sage pred result/'+seeds+'_simu_test_idx.csv'\n",
    "    y_pred_name = '/data/xiangdw/data/pred result/SpaMIE pred result/'+seeds+'simu_SpaMIE_new_res3_wt_pred_50.csv'\n",
    "\n",
    "    set_seed(2024) \n",
    "    sc.pp.scale(adata_omics1)\n",
    "    sc.pp.scale(adata_omics2)\n",
    "    modalities = [adata_omics1, adata_omics2]\n",
    "    g_spatial_omics1, g_feature_omics1, g_spatial_omics2,g_feature_omics2, adata_omics1, adata_omics2 = Sagegraph(modalities, device, task=\"Integration\", test_idx_name=test_idx,\n",
    "                                                                                                                   y_pred_name=y_pred_name, pred_joint=True, datatype=\"simu\",batch=False)\n",
    "\n",
    "    in_feat = adata_omics1.obsm['feat'].shape[1]\n",
    "    out_feat = adata_omics2.X.shape[1]\n",
    "    weight = [1,1,1]\n",
    "    model = Sagewrapper(seed=(int(seeds)), device=device, in_feat=in_feat, n_hidden=256, out_feat=out_feat, task='integration', datatype='simu',\n",
    "                        layers_nums=int(3), weight=weight, epoch=600, res_type='res_add', activation=nn.LeakyReLU\n",
    "                        , sagetype='mean', lr=2e-4, lr2 = 0.002)\n",
    "\n",
    "    output  = model.fit(g_spatial_omics1, g_feature_omics1, g_spatial_omics2, g_feature_omics2, adata_omics1, adata_omics2, weight_factors=[1,5,1,1])\n",
    "\n",
    "    adata_omics2.obsm['SpaMIE'] = output[0]\n",
    "    "
   ]
  }
 ],
 "metadata": {
  "kernelspec": {
   "display_name": "dl",
   "language": "python",
   "name": "python3"
  },
  "language_info": {
   "codemirror_mode": {
    "name": "ipython",
    "version": 3
   },
   "file_extension": ".py",
   "mimetype": "text/x-python",
   "name": "python",
   "nbconvert_exporter": "python",
   "pygments_lexer": "ipython3",
   "version": "3.8.18"
  }
 },
 "nbformat": 4,
 "nbformat_minor": 5
}

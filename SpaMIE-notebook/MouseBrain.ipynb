{
 "cells": [
  {
   "cell_type": "markdown",
   "id": "33481916",
   "metadata": {},
   "source": [
    "## Mouse Brain"
   ]
  },
  {
   "cell_type": "markdown",
   "id": "17eec1d1",
   "metadata": {
    "vscode": {
     "languageId": "plaintext"
    }
   },
   "source": [
    "### Prediction"
   ]
  },
  {
   "cell_type": "code",
   "execution_count": null,
   "id": "3dd3e6c1",
   "metadata": {},
   "outputs": [],
   "source": [
    "import scanpy as sc\n",
    "import torch as th\n",
    "import scanpy as sc\n",
    "import pandas as pd\n",
    "import torch.nn as nn\n",
    "import sys\n",
    "sys.path.append(r\"/data/xiangdw/MODEL/\")\n",
    "from SpaMIE.create_graph import Sagegraph\n",
    "from SpaMIE.spamie_main import Sagewrapper\n",
    "device = th.device('cuda:0' if th.cuda.is_available() else 'cpu')\n",
    "file_fold = '/data/xiangdw/data/data/' \n",
    "from matplotlib import rcParams\n",
    "\n",
    "config = {\n",
    "    \"font.family\":'Times New Roman',  # 设置字体类型\n",
    "    \"font.size\":12,\n",
    "    \"axes.unicode_minus\": False #解决负号无法显示的问题\n",
    "}\n",
    "rcParams.update(config)"
   ]
  },
  {
   "cell_type": "code",
   "execution_count": null,
   "id": "679c33df",
   "metadata": {},
   "outputs": [],
   "source": [
    "import datetime\n",
    "path = '/data/xiangdw/data/data/MouseBrain_new/'\n",
    "a = []\n",
    "layers_nums = 3\n",
    "for i in range(1):\n",
    "    starttime = datetime.datetime.now()\n",
    "    seeds = i+1\n",
    "    adata_omics2 = sc.read_h5ad(path + 'MouseBrain_RNA_concat.h5ad')\n",
    "    adata_omics1 = sc.read_h5ad(path + 'MouseBrain_H3K27me3_concat.h5ad')\n",
    "    \n",
    "    #New spatial coord\n",
    "    tissue_positions = pd.read_csv('/data/xiangdw/mousebrain/gtt_output/new_coord_modify.csv', header=None)\n",
    "\n",
    "    cell_ids = tissue_positions.iloc[:, 0]\n",
    "    x_coords = tissue_positions.iloc[:, 1]\n",
    "    y_coords = tissue_positions.iloc[:, 2]\n",
    "\n",
    "    x_coords_dict = dict(zip(cell_ids, x_coords))\n",
    "    y_coords_dict = dict(zip(cell_ids, y_coords))\n",
    "\n",
    "    adata_omics1.obs['x_coord'] = adata_omics1.obs.index.map(x_coords_dict).astype('float')\n",
    "    adata_omics1.obs['y_coord'] = adata_omics1.obs.index.map(y_coords_dict).astype('float')\n",
    "    adata_omics1.obsm['spatial'] = adata_omics1.obs[['x_coord', 'y_coord']].values\n",
    "    adata_omics2.obs['x_coord'] = adata_omics2.obs['row'].values \n",
    "    adata_omics2.obs['y_coord'] = adata_omics2.obs['col'].values \n",
    "    adata_omics2.obsm['spatial'] = adata_omics2.obs[['x_coord', 'y_coord']].values\n",
    "\n",
    "    modalities = [adata_omics1, adata_omics2]\n",
    "    g_spatial_omics1, g_feature_omics1, g_spatial_omics2, g_feature_omics2, adata_omics1, adata_omics2 = Sagegraph(modalities, device, datatype='Spatial_Epigenome_RNA', batch=True)\n",
    "    output_dir = '/data/xiangdw/data/pred result/'\n",
    "    weight = [0,1,2]\n",
    "\n",
    "    pred_name = 'MouseBrain_SpaMIE_RNA_'+str(layers_nums)+'_pred.csv'\n",
    "    true_name = 'MouseBrain_SpaMIE_RNA_'+str(layers_nums)+'_truth.csv'\n",
    "\n",
    "    in_feat = adata_omics1.obsm['feat'].shape[1]\n",
    "    out_feat = adata_omics2.X.shape[1]\n",
    "    train_size = ada_omics1[adata_omics1.obs['batch']=='1'].shape[0]\n",
    "\n",
    "    model = Sagewrapper(seed=(int(seeds)), device=device, in_feat=in_feat, n_hidden=256, out_feat=out_feat, task='prediction', datatype='Spatial_Epigenome_RNA',\n",
    "                        layers_nums=int(layers_nums), weight=weight, epoch=600, res_type='res_add', activation=nn.LeakyReLU\n",
    "                        , sagetype='mean', lr=2e-4, lr2 = 0.002)\n",
    "\n",
    "    adata_omics1_pred, adata_omics2_pred, test_idx, train_idx,wt,alph  = model.fit(g_spatial_omics1, g_feature_omics1,  g_spatial_omics2, g_feature_omics2,\n",
    "                                                                                    adata_omics1, adata_omics2, output_dir=output_dir, pred_name=pred_name, \n",
    "                                                                                    true_name=true_name, trian_size=train_size, weight=True, save_csv=False)\n",
    "\n"
   ]
  },
  {
   "cell_type": "markdown",
   "id": "57dc32e1",
   "metadata": {},
   "source": [
    "### Integration"
   ]
  },
  {
   "cell_type": "code",
   "execution_count": null,
   "id": "baaf34dc",
   "metadata": {},
   "outputs": [],
   "source": [
    "import os\n",
    "import dgl\n",
    "import pandas as pd\n",
    "os.getcwd()\n",
    "os.chdir('/data/xiangdw/MODEL/')\n",
    "print(os.getcwd())\n",
    "import sys\n",
    "import scanpy as sc\n",
    "import importlib \n",
    "import torch as th\n",
    "import torch.nn as nn\n",
    "from sklearn.utils import shuffle\n",
    "from model_integration import *\n",
    "\n",
    "# 设置西文字体为新罗马字体\n",
    "from matplotlib import rcParams\n",
    "\n",
    "config = {\n",
    "    \"font.family\":'Times New Roman', \n",
    "     \"font.size\":20, # 设置字体类型\n",
    "    \"axes.unicode_minus\": False #解决负号无法显示的问题\n",
    "}\n",
    "rcParams.update(config)"
   ]
  },
  {
   "cell_type": "code",
   "execution_count": null,
   "id": "e2cc9da8",
   "metadata": {},
   "outputs": [],
   "source": [
    "import torch.nn.functional as F\n",
    "from SpaMIE.create_graph import Sagegraph\n",
    "from SpaMIE.spamie_main import Sagewrapper\n",
    "import numpy as np\n",
    "from model_integration import set_seed\n",
    "device = th.device('cuda:1' if th.cuda.is_available() else 'cpu')\n",
    "\n",
    "\n",
    "for i in range(1): \n",
    "    seeds = str(i+1)\n",
    "    path = '/data/xiangdw/data/data/MouseBrain_new/'\n",
    "    adata_omics1 = sc.read_h5ad(path + 'MouseBrain_H3K27me3_concat.h5ad')\n",
    "    adata_omics2 = sc.read_h5ad(path + 'MouseBrain_RNA_pred_concat.h5ad')\n",
    "\n",
    "\n",
    "    set_seed(2024) \n",
    "    sc.pp.scale(adata_omics1)\n",
    "    sc.pp.scale(adata_omics2)\n",
    "    modalities = [adata_omics1, adata_omics2]\n",
    "    g_spatial_omics1, g_feature_omics1, g_spatial_omics2, g_feature_omics2, adata_omics1, adata_omics2 = Sagegraph(modalities, device, task=\"Integration\", datatype=\"Spatial_Epigenome_RNA\",batch=True)\n",
    "\n",
    "    in_feat = adata_omics1.obsm['feat'].shape[1]\n",
    "    out_feat = adata_omics2.X.shape[1]\n",
    "    weight = [1,1,1]\n",
    "    model = Sagewrapper(seed=(int(seeds)), device=device, in_feat=in_feat, n_hidden=256, out_feat=out_feat, task='integration', datatype='Spatial_Epigenome_RNA',\n",
    "                        layers_nums=int(3), weight=weight, epoch=600, res_type='res_add', activation=nn.LeakyReLU\n",
    "                        , sagetype='mean', lr=2e-4, lr2 = 0.002)\n",
    "\n",
    "    output  = model.fit(g_spatial_omics1, g_feature_omics1, g_spatial_omics2, g_feature_omics2, adata_omics1, adata_omics2, weight_factors=[2,1,1,1])\n",
    "\n",
    "    adata_omics2.obsm['SpaMIE'] = output[0]\n",
    "    "
   ]
  }
 ],
 "metadata": {
  "language_info": {
   "name": "python"
  }
 },
 "nbformat": 4,
 "nbformat_minor": 5
}

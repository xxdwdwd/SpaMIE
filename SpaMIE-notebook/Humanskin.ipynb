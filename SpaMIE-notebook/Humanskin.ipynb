{
 "cells": [
  {
   "cell_type": "markdown",
   "id": "96025575",
   "metadata": {},
   "source": [
    "### Human Skin"
   ]
  },
  {
   "cell_type": "code",
   "execution_count": null,
   "id": "b042c6f3",
   "metadata": {},
   "outputs": [],
   "source": [
    "import scanpy as sc\n",
    "import torch as th\n",
    "import scanpy as sc\n",
    "import pandas as pd\n",
    "import torch.nn as nn\n",
    "import sys\n",
    "sys.path.append(r\"/data/xiangdw/MODEL/\")\n",
    "from SpaMIE.create_graph import Sagegraph\n",
    "from SpaMIE.spamie_main import Sagewrapper\n",
    "device = th.device('cuda:0' if th.cuda.is_available() else 'cpu')\n",
    "file_fold = '/data/xiangdw/data/data/' \n",
    "from matplotlib import rcParams\n",
    "\n",
    "config = {\n",
    "    \"font.family\":'Times New Roman',  # 设置字体类型\n",
    "    \"font.size\":12,\n",
    "    \"axes.unicode_minus\": False #解决负号无法显示的问题\n",
    "}\n",
    "rcParams.update(config)"
   ]
  },
  {
   "cell_type": "code",
   "execution_count": null,
   "id": "ed9f7cdb",
   "metadata": {},
   "outputs": [],
   "source": [
    "import datetime\n",
    "file_fold = '/data/xiangdw/data/data/'\n",
    "a = []\n",
    "layers_nums = 3\n",
    "for i in range(1):\n",
    "    starttime = datetime.datetime.now()\n",
    "    seeds = i+1\n",
    "    adata_omics1 = sc.read_h5ad(file_fold + 'adata_RNA_humanskin.h5ad')\n",
    "    adata_omics2 = sc.read_h5ad(file_fold + 'adata_RNA_humanskin.h5ad')\n",
    "\n",
    "    modalities = [adata_omics1, adata_omics2]\n",
    "    g_spatial_omics1, g_feature_omics1, g_spatial_omics2, g_feature_omics2, adata_omics1, adata_omics2 = Sagegraph(modalities, device, datatype='Stereo-CITE-seq', batch=False)\n",
    "    output_dir = '/data/xiangdw/data/pred result/'\n",
    "    weight = [0,0,2]\n",
    "\n",
    "    pred_name = 'humanskin_SpaMIE_'+str(layers_nums)+'_pred.csv'\n",
    "    true_name = 'humanskin_SpaMIE_'+str(layers_nums)+'_truth.csv'\n",
    "\n",
    "    in_feat = adata_omics1.obsm['feat'].shape[1]\n",
    "    out_feat = adata_omics2.X.shape[1]\n",
    "\n",
    "    model = Sagewrapper(seed=(int(seeds)), device=device, in_feat=in_feat, n_hidden=256, out_feat=out_feat, task='prediction', datatype='Stereo-CITE-seq',\n",
    "                        layers_nums=int(layers_nums), weight=weight, epoch=700, res_type='res_add', activation=nn.LeakyReLU\n",
    "                        , sagetype='mean', lr=4e-4, lr2 = 0.001)\n",
    "\n",
    "    adata_omics1_pred, adata_omics2_pred, test_idx, train_idx,wt,alph  = model.fit(g_spatial_omics1, g_feature_omics1,  g_spatial_omics2, g_feature_omics2,\n",
    "                                                                                    adata_omics1, adata_omics2, output_dir=output_dir, pred_name=pred_name, \n",
    "                                                                                    true_name=true_name, weight=True, save_csv=False)\n",
    "\n"
   ]
  }
 ],
 "metadata": {
  "kernelspec": {
   "display_name": "dl",
   "language": "python",
   "name": "python3"
  },
  "language_info": {
   "name": "python",
   "version": "3.8.18"
  }
 },
 "nbformat": 4,
 "nbformat_minor": 5
}
